{
 "cells": [
  {
   "cell_type": "code",
   "execution_count": 2,
   "id": "886e2db0-9396-495b-b104-251a48025d2c",
   "metadata": {},
   "outputs": [],
   "source": [
    "import numpy as np"
   ]
  },
  {
   "cell_type": "code",
   "execution_count": 9,
   "id": "c565703a-1821-4021-8ee6-0639ff9dc6bb",
   "metadata": {},
   "outputs": [],
   "source": [
    "class RecursiveLeastSquares:\n",
    "    def __init__(self, initA, initB):\n",
    "        self.A = np.array(initA)  # m x n \n",
    "        self.b = np.array(initB).reshape(-1, 1) # m x 1 \n",
    "        self.P = np.linalg.inv(self.A.T @ self.A) # n x n \n",
    "\n",
    "        self.x = self.P @ self.A.T @ self.b # (n x n)(n x m)(m x 1) = (nx1) \n",
    "        \n",
    "    def update(self, ak, bk):\n",
    "        \"\"\"\n",
    "        ak = new input with the form (1 x n)\n",
    "        bk = output, scalar\n",
    "        \"\"\"\n",
    "        \n",
    "        ak = np.array(ak).reshape(1, -1) # 1 x n \n",
    "        bk = np.array(bk).item() # bk item \n",
    "        error = bk - (ak @ self.x).item() # scalar diff \n",
    "\n",
    "        P_ak_T = self.P @ ak.T     # (nxn)(nx1)=(nx1)\n",
    "        den = (1 + ak @ P_ak_T).item() # scalar\n",
    "        K = P_ak_T / den  # nx1/sca = nx1\n",
    "        \n",
    "        self.x = self.x + K * error # (nx1) + scalar(scalar) -> nx1\n",
    "\n",
    "        # Update the info matrix: \n",
    "        # (nxn)\n",
    "        self.P = self.P - (K @ ak @ self.P)\n",
    "        \n",
    "    def get_solution(self):\n",
    "        return self.x.flatten()       # 1d"
   ]
  },
  {
   "cell_type": "code",
   "execution_count": 8,
   "id": "76b56508-f303-4404-bb50-391af4ec9314",
   "metadata": {},
   "outputs": [
    {
     "name": "stdout",
     "output_type": "stream",
     "text": [
      "Initial Solution: [-6.   6.5]\n",
      "Updated Solution: [-6.   6.5]\n"
     ]
    }
   ],
   "source": [
    "A = np.array([[1, 2], [3, 4], [5, 6]])\n",
    "b = np.array([7, 8, 9])\n",
    "\n",
    "rls = RecursiveLeastSquares(A, b)\n",
    "\n",
    "print(\"Initial Solution:\", rls.get_solution())\n",
    "\n",
    "# New observation\n",
    "ak_new = np.array([7, 8])  # New input row\n",
    "bk_new = 10  # New output value\n",
    "\n",
    "rls.update(ak_new, bk_new)\n",
    "\n",
    "print(\"Updated Solution:\", rls.get_solution())"
   ]
  }
 ],
 "metadata": {
  "kernelspec": {
   "display_name": "Python 3 (ipykernel)",
   "language": "python",
   "name": "python3"
  },
  "language_info": {
   "codemirror_mode": {
    "name": "ipython",
    "version": 3
   },
   "file_extension": ".py",
   "mimetype": "text/x-python",
   "name": "python",
   "nbconvert_exporter": "python",
   "pygments_lexer": "ipython3",
   "version": "3.13.2"
  }
 },
 "nbformat": 4,
 "nbformat_minor": 5
}
